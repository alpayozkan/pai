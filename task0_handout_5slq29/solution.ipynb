{
 "cells": [
  {
   "cell_type": "code",
   "execution_count": 1,
   "metadata": {},
   "outputs": [],
   "source": [
    "import numpy\n",
    "from scipy.stats import laplace, norm, t\n",
    "import scipy\n",
    "import math\n",
    "import numpy as np\n",
    "\n"
   ]
  },
  {
   "cell_type": "code",
   "execution_count": 2,
   "metadata": {},
   "outputs": [],
   "source": [
    "VARIANCE = 2.0\n",
    "\n",
    "normal_scale = math.sqrt(VARIANCE)\n",
    "student_t_df = (2 * VARIANCE) / (VARIANCE - 1)\n",
    "laplace_scale = VARIANCE / 2\n",
    "\n",
    "HYPOTHESIS_SPACE = [norm(loc=0.0, scale=math.sqrt(VARIANCE)),\n",
    "                    laplace(loc=0.0, scale=laplace_scale),\n",
    "                    t(df=student_t_df)]\n",
    "\n",
    "PRIOR_PROBS = np.array([0.35, 0.25, 0.4])"
   ]
  },
  {
   "cell_type": "code",
   "execution_count": null,
   "metadata": {},
   "outputs": [],
   "source": []
  },
  {
   "cell_type": "code",
   "execution_count": 7,
   "metadata": {},
   "outputs": [],
   "source": [
    "def generate_sample(n_samples, seed=None):\n",
    "    \"\"\" data generating process of the Bayesian model \"\"\"\n",
    "    random_state = np.random.RandomState(seed)\n",
    "    hypothesis_idx = np.random.choice(3, p=PRIOR_PROBS)\n",
    "    dist = HYPOTHESIS_SPACE[hypothesis_idx]\n",
    "    return dist.rvs(n_samples, random_state=random_state)"
   ]
  },
  {
   "cell_type": "code",
   "execution_count": 8,
   "metadata": {},
   "outputs": [],
   "source": [
    "from scipy.special import logsumexp\n"
   ]
  },
  {
   "cell_type": "code",
   "execution_count": 17,
   "metadata": {},
   "outputs": [],
   "source": [
    "def posterior_probs(x):\n",
    "    return np.exp(log_posterior_probs(x))"
   ]
  },
  {
   "cell_type": "code",
   "execution_count": null,
   "metadata": {},
   "outputs": [],
   "source": [
    "def log_posterior_probs(x):\n",
    "    \"\"\"\n",
    "    Computes the log posterior probabilities for the three hypotheses, given the data x\n",
    "\n",
    "    Args:\n",
    "        x (np.ndarray): one-dimensional numpy array containing the training data\n",
    "    Returns:\n",
    "        log_posterior_probs (np.ndarray): a numpy array of size 3, containing the Bayesian log-posterior probabilities\n",
    "                                          corresponding to the three hypotheses\n",
    "    \"\"\"\n",
    "    assert x.ndim == 1\n",
    "\n",
    "    # TODO: enter your code here\n",
    "    \n",
    "\n",
    "    assert log_p.shape == (3,)\n",
    "    return log_p\n"
   ]
  },
  {
   "cell_type": "code",
   "execution_count": null,
   "metadata": {},
   "outputs": [],
   "source": []
  },
  {
   "cell_type": "code",
   "execution_count": 14,
   "metadata": {},
   "outputs": [],
   "source": [
    "\"\"\" sample from Laplace dist \"\"\"\n",
    "dist = HYPOTHESIS_SPACE[1]\n",
    "x = dist.rvs(1000, random_state=28)"
   ]
  },
  {
   "cell_type": "code",
   "execution_count": 15,
   "metadata": {},
   "outputs": [
    {
     "data": {
      "text/plain": [
       "(1000,)"
      ]
     },
     "execution_count": 15,
     "metadata": {},
     "output_type": "execute_result"
    }
   ],
   "source": [
    "x.shape"
   ]
  },
  {
   "cell_type": "code",
   "execution_count": 18,
   "metadata": {},
   "outputs": [
    {
     "data": {
      "text/plain": [
       "array([0.61253999])"
      ]
     },
     "execution_count": 18,
     "metadata": {},
     "output_type": "execute_result"
    }
   ],
   "source": [
    "x[:1]"
   ]
  },
  {
   "cell_type": "code",
   "execution_count": null,
   "metadata": {},
   "outputs": [],
   "source": []
  },
  {
   "cell_type": "code",
   "execution_count": 13,
   "metadata": {},
   "outputs": [
    {
     "name": "stdout",
     "output_type": "stream",
     "text": [
      "Posterior probs for 1 sample from Laplacian\n"
     ]
    },
    {
     "ename": "NameError",
     "evalue": "name 'log_posterior_probs' is not defined",
     "output_type": "error",
     "traceback": [
      "\u001b[1;31m---------------------------------------------------------------------------\u001b[0m",
      "\u001b[1;31mNameError\u001b[0m                                 Traceback (most recent call last)",
      "\u001b[1;32m<ipython-input-13-96036efa6528>\u001b[0m in \u001b[0;36m<module>\u001b[1;34m()\u001b[0m\n\u001b[0;32m      1\u001b[0m \u001b[0mprint\u001b[0m\u001b[1;33m(\u001b[0m\u001b[1;34m\"Posterior probs for 1 sample from Laplacian\"\u001b[0m\u001b[1;33m)\u001b[0m\u001b[1;33m\u001b[0m\u001b[0m\n\u001b[1;32m----> 2\u001b[1;33m \u001b[0mp\u001b[0m \u001b[1;33m=\u001b[0m \u001b[0mposterior_probs\u001b[0m\u001b[1;33m(\u001b[0m\u001b[0mx\u001b[0m\u001b[1;33m[\u001b[0m\u001b[1;33m:\u001b[0m\u001b[1;36m1\u001b[0m\u001b[1;33m]\u001b[0m\u001b[1;33m)\u001b[0m\u001b[1;33m\u001b[0m\u001b[0m\n\u001b[0m\u001b[0;32m      3\u001b[0m \u001b[0mprint\u001b[0m\u001b[1;33m(\u001b[0m\u001b[1;34m\"Normal: %.4f , Laplace: %.4f, Student-t: %.4f\\n\"\u001b[0m \u001b[1;33m%\u001b[0m \u001b[0mtuple\u001b[0m\u001b[1;33m(\u001b[0m\u001b[0mp\u001b[0m\u001b[1;33m)\u001b[0m\u001b[1;33m)\u001b[0m\u001b[1;33m\u001b[0m\u001b[0m\n",
      "\u001b[1;32m<ipython-input-9-591c016a5a22>\u001b[0m in \u001b[0;36mposterior_probs\u001b[1;34m(x)\u001b[0m\n\u001b[0;32m      1\u001b[0m \u001b[1;32mdef\u001b[0m \u001b[0mposterior_probs\u001b[0m\u001b[1;33m(\u001b[0m\u001b[0mx\u001b[0m\u001b[1;33m)\u001b[0m\u001b[1;33m:\u001b[0m\u001b[1;33m\u001b[0m\u001b[0m\n\u001b[1;32m----> 2\u001b[1;33m     \u001b[1;32mreturn\u001b[0m \u001b[0mnp\u001b[0m\u001b[1;33m.\u001b[0m\u001b[0mexp\u001b[0m\u001b[1;33m(\u001b[0m\u001b[0mlog_posterior_probs\u001b[0m\u001b[1;33m(\u001b[0m\u001b[0mx\u001b[0m\u001b[1;33m)\u001b[0m\u001b[1;33m)\u001b[0m\u001b[1;33m\u001b[0m\u001b[0m\n\u001b[0m",
      "\u001b[1;31mNameError\u001b[0m: name 'log_posterior_probs' is not defined"
     ]
    }
   ],
   "source": [
    "print(\"Posterior probs for 1 sample from Laplacian\")\n",
    "p = posterior_probs(x[:1])\n",
    "print(\"Normal: %.4f , Laplace: %.4f, Student-t: %.4f\\n\" % tuple(p))"
   ]
  },
  {
   "cell_type": "code",
   "execution_count": null,
   "metadata": {},
   "outputs": [],
   "source": []
  },
  {
   "cell_type": "code",
   "execution_count": null,
   "metadata": {},
   "outputs": [],
   "source": []
  },
  {
   "cell_type": "code",
   "execution_count": null,
   "metadata": {},
   "outputs": [],
   "source": [
    "\n",
    "\n",
    "\n",
    "\n",
    "print(\"Posterior probs for 50 samples from Laplacian\")\n",
    "p = posterior_probs(x[:50])\n",
    "print(\"Normal: %.4f , Laplace: %.4f, Student-t: %.4f\\n\" % tuple(p))\n",
    "\n",
    "print(\"Posterior probs for 1000 samples from Laplacian\")\n",
    "p = posterior_probs(x[:1000])\n",
    "print(\"Normal: %.4f , Laplace: %.4f, Student-t: %.4f\\n\" % tuple(p))\n",
    "\n",
    "print(\"Posterior for 100 samples from the Bayesian data generating process\")\n",
    "x = generate_sample(n_samples=100)\n",
    "p = posterior_probs(x)\n",
    "print(\"Normal: %.4f , Laplace: %.4f, Student-t: %.4f\\n\" % tuple(p))"
   ]
  },
  {
   "cell_type": "code",
   "execution_count": null,
   "metadata": {},
   "outputs": [],
   "source": []
  }
 ],
 "metadata": {
  "kernelspec": {
   "display_name": "Python 3",
   "language": "python",
   "name": "python3"
  },
  "language_info": {
   "codemirror_mode": {
    "name": "ipython",
    "version": 3
   },
   "file_extension": ".py",
   "mimetype": "text/x-python",
   "name": "python",
   "nbconvert_exporter": "python",
   "pygments_lexer": "ipython3",
   "version": "3.6.5"
  }
 },
 "nbformat": 4,
 "nbformat_minor": 2
}
