{
 "cells": [
  {
   "cell_type": "code",
   "execution_count": 1,
   "metadata": {},
   "outputs": [],
   "source": [
    "import os\n",
    "import typing\n",
    "from sklearn.gaussian_process.kernels import *\n",
    "import numpy as np\n",
    "from sklearn.gaussian_process import GaussianProcessRegressor\n",
    "import matplotlib.pyplot as plt\n",
    "from matplotlib import cm"
   ]
  },
  {
   "cell_type": "code",
   "execution_count": 2,
   "metadata": {},
   "outputs": [],
   "source": [
    "train_x = np.loadtxt('train_x.csv', delimiter=',', skiprows=1)\n",
    "train_y = np.loadtxt('train_y.csv', delimiter=',', skiprows=1)\n",
    "test_x = np.loadtxt('test_x.csv', delimiter=',', skiprows=1)"
   ]
  },
  {
   "cell_type": "code",
   "execution_count": 3,
   "metadata": {},
   "outputs": [
    {
     "name": "stdout",
     "output_type": "stream",
     "text": [
      "(15189, 3) (15189,)\n"
     ]
    }
   ],
   "source": [
    "print(train_x.shape, train_y.shape)"
   ]
  },
  {
   "cell_type": "code",
   "execution_count": 4,
   "metadata": {},
   "outputs": [],
   "source": [
    "train_x_2D = np.zeros((train_x.shape[0], 2), dtype=float)\n",
    "train_x_AREA = np.zeros((train_x.shape[0],), dtype=bool)\n",
    "test_x_2D = np.zeros((test_x.shape[0], 2), dtype=float)\n",
    "test_x_AREA = np.zeros((test_x.shape[0],), dtype=bool)\n",
    "\n",
    "#TODO: Extract the city_area information from the training and test features\n",
    "train_x_2D = train_x[:, :2]\n",
    "train_x_AREA = train_x[:, 2]\n",
    "test_x_2D = test_x[:, :2]\n",
    "test_x_AREA = test_x[:, 2]"
   ]
  },
  {
   "cell_type": "code",
   "execution_count": 5,
   "metadata": {},
   "outputs": [],
   "source": [
    "assert train_x_2D.shape[0] == train_x_AREA.shape[0] and test_x_2D.shape[0] == test_x_AREA.shape[0]\n",
    "assert train_x_2D.shape[1] == 2 and test_x_2D.shape[1] == 2\n",
    "assert train_x_AREA.ndim == 1 and test_x_AREA.ndim == 1"
   ]
  },
  {
   "cell_type": "code",
   "execution_count": 6,
   "metadata": {},
   "outputs": [
    {
     "name": "stderr",
     "output_type": "stream",
     "text": [
      "C:\\Users\\aoezkan\\AppData\\Local\\Temp\\ipykernel_13540\\940910366.py:2: DeprecationWarning: `np.bool` is a deprecated alias for the builtin `bool`. To silence this warning, use `bool` by itself. Doing this will not modify any behavior and is safe. If you specifically wanted the numpy scalar type, use `np.bool_` here.\n",
      "Deprecated in NumPy 1.20; for more details and guidance: https://numpy.org/devdocs/release/1.20.0-notes.html#deprecations\n",
      "  mask = np.random.binomial(1, 0.3, train_x_2D.shape[0]).astype(np.bool)\n"
     ]
    }
   ],
   "source": [
    "# Undersampling \n",
    "mask = np.random.binomial(1, 0.3, train_x_2D.shape[0]).astype(np.bool)\n",
    "sample_train_x_2D = train_x_2D[mask]\n",
    "sample_train_y = train_y[mask]"
   ]
  },
  {
   "cell_type": "code",
   "execution_count": 7,
   "metadata": {},
   "outputs": [
    {
     "name": "stdout",
     "output_type": "stream",
     "text": [
      "(4666, 2)\n"
     ]
    }
   ],
   "source": [
    "print(sample_train_x_2D.shape)"
   ]
  },
  {
   "cell_type": "code",
   "execution_count": 8,
   "metadata": {},
   "outputs": [],
   "source": [
    "kernel = DotProduct() + WhiteKernel()\n",
    "gpr_dotprod_whitekern_30percent_sampling = GaussianProcessRegressor(kernel=kernel,random_state=0).fit(sample_train_x_2D, sample_train_y)"
   ]
  },
  {
   "cell_type": "code",
   "execution_count": 9,
   "metadata": {},
   "outputs": [
    {
     "data": {
      "text/plain": [
       "0.17843234201754177"
      ]
     },
     "execution_count": 9,
     "metadata": {},
     "output_type": "execute_result"
    }
   ],
   "source": [
    "gpr_dotprod_whitekern_30percent_sampling.score(train_x_2D, train_y)"
   ]
  },
  {
   "cell_type": "code",
   "execution_count": 10,
   "metadata": {},
   "outputs": [],
   "source": [
    "kernel = Matern(length_scale_bounds=(1e-3, 1e5))\n",
    "gpr_dotprod_whitekern_30percent_sampling = GaussianProcessRegressor(kernel=kernel,random_state=0).fit(sample_train_x_2D, sample_train_y)"
   ]
  },
  {
   "cell_type": "code",
   "execution_count": 11,
   "metadata": {},
   "outputs": [
    {
     "data": {
      "text/plain": [
       "0.9831677465626943"
      ]
     },
     "execution_count": 11,
     "metadata": {},
     "output_type": "execute_result"
    }
   ],
   "source": [
    "gpr_dotprod_whitekern_30percent_sampling.score(train_x_2D, train_y)"
   ]
  },
  {
   "cell_type": "code",
   "execution_count": 15,
   "metadata": {},
   "outputs": [
    {
     "data": {
      "text/plain": [
       "{'alpha': 1e-10,\n",
       " 'copy_X_train': True,\n",
       " 'kernel__length_scale': 1.0,\n",
       " 'kernel__length_scale_bounds': (0.001, 100000.0),\n",
       " 'kernel__nu': 1.5,\n",
       " 'kernel': Matern(length_scale=1, nu=1.5),\n",
       " 'n_restarts_optimizer': 0,\n",
       " 'n_targets': None,\n",
       " 'normalize_y': False,\n",
       " 'optimizer': 'fmin_l_bfgs_b',\n",
       " 'random_state': 0}"
      ]
     },
     "execution_count": 15,
     "metadata": {},
     "output_type": "execute_result"
    }
   ],
   "source": [
    "gpr_dotprod_whitekern_30percent_sampling.get_params()"
   ]
  },
  {
   "cell_type": "code",
   "execution_count": null,
   "metadata": {},
   "outputs": [],
   "source": []
  },
  {
   "cell_type": "code",
   "execution_count": null,
   "metadata": {},
   "outputs": [],
   "source": []
  },
  {
   "cell_type": "code",
   "execution_count": 13,
   "metadata": {},
   "outputs": [
    {
     "data": {
      "text/plain": [
       "['kernel',\n",
       " 'alpha',\n",
       " 'optimizer',\n",
       " 'n_restarts_optimizer',\n",
       " 'normalize_y',\n",
       " 'copy_X_train',\n",
       " 'n_targets',\n",
       " 'random_state',\n",
       " 'kernel_',\n",
       " '_rng',\n",
       " 'n_features_in_',\n",
       " '_y_train_mean',\n",
       " '_y_train_std',\n",
       " 'X_train_',\n",
       " 'y_train_',\n",
       " 'log_marginal_likelihood_value_',\n",
       " 'L_',\n",
       " 'alpha_',\n",
       " '__module__',\n",
       " '__annotations__',\n",
       " '__doc__',\n",
       " '_parameter_constraints',\n",
       " '__init__',\n",
       " 'fit',\n",
       " 'predict',\n",
       " 'sample_y',\n",
       " 'log_marginal_likelihood',\n",
       " '_constrained_optimization',\n",
       " '_more_tags',\n",
       " 'set_predict_request',\n",
       " 'set_score_request',\n",
       " '__dict__',\n",
       " '__weakref__',\n",
       " '__repr__',\n",
       " '__hash__',\n",
       " '__str__',\n",
       " '__getattribute__',\n",
       " '__setattr__',\n",
       " '__delattr__',\n",
       " '__lt__',\n",
       " '__le__',\n",
       " '__eq__',\n",
       " '__ne__',\n",
       " '__gt__',\n",
       " '__ge__',\n",
       " '__new__',\n",
       " '__reduce_ex__',\n",
       " '__reduce__',\n",
       " '__subclasshook__',\n",
       " '__init_subclass__',\n",
       " '__format__',\n",
       " '__sizeof__',\n",
       " '__dir__',\n",
       " '__class__',\n",
       " '_estimator_type',\n",
       " 'score',\n",
       " '_get_param_names',\n",
       " 'get_params',\n",
       " 'set_params',\n",
       " '__sklearn_clone__',\n",
       " '__getstate__',\n",
       " '__setstate__',\n",
       " '_get_tags',\n",
       " '_check_n_features',\n",
       " '_check_feature_names',\n",
       " '_validate_data',\n",
       " '_validate_params',\n",
       " '_repr_html_',\n",
       " '_repr_html_inner',\n",
       " '_repr_mimebundle_',\n",
       " '_build_request_for_signature',\n",
       " '_get_default_requests',\n",
       " '_get_metadata_request',\n",
       " 'get_metadata_routing']"
      ]
     },
     "execution_count": 13,
     "metadata": {},
     "output_type": "execute_result"
    }
   ],
   "source": [
    "gpr_dotprod_whitekern_30percent_sampling.__dir__()"
   ]
  },
  {
   "cell_type": "code",
   "execution_count": null,
   "metadata": {},
   "outputs": [],
   "source": []
  },
  {
   "cell_type": "code",
   "execution_count": null,
   "metadata": {},
   "outputs": [],
   "source": []
  },
  {
   "cell_type": "code",
   "execution_count": null,
   "metadata": {},
   "outputs": [],
   "source": []
  },
  {
   "cell_type": "code",
   "execution_count": 17,
   "metadata": {},
   "outputs": [],
   "source": [
    "import pickle"
   ]
  },
  {
   "cell_type": "code",
   "execution_count": 18,
   "metadata": {},
   "outputs": [],
   "source": [
    "with open('model.pkl','wb') as f:\n",
    "    pickle.dump(gpr_dotprod_whitekern_30percent_sampling,f)"
   ]
  },
  {
   "cell_type": "code",
   "execution_count": 19,
   "metadata": {},
   "outputs": [],
   "source": [
    "with open('model.pkl', 'rb') as f:\n",
    "    my_model = pickle.load(f)"
   ]
  },
  {
   "cell_type": "code",
   "execution_count": 20,
   "metadata": {},
   "outputs": [
    {
     "data": {
      "text/plain": [
       "0.9831677465626943"
      ]
     },
     "execution_count": 20,
     "metadata": {},
     "output_type": "execute_result"
    }
   ],
   "source": [
    "my_model.score(train_x_2D, train_y)"
   ]
  },
  {
   "cell_type": "code",
   "execution_count": null,
   "metadata": {},
   "outputs": [],
   "source": []
  },
  {
   "cell_type": "code",
   "execution_count": null,
   "metadata": {},
   "outputs": [],
   "source": []
  },
  {
   "cell_type": "code",
   "execution_count": 21,
   "metadata": {},
   "outputs": [
    {
     "data": {
      "text/plain": [
       "array([[0.8575 , 0.68625],\n",
       "       [0.41125, 0.675  ],\n",
       "       [0.8625 , 0.90625],\n",
       "       ...,\n",
       "       [0.135  , 0.64   ],\n",
       "       [0.07125, 0.78875],\n",
       "       [0.31625, 0.2125 ]])"
      ]
     },
     "execution_count": 21,
     "metadata": {},
     "output_type": "execute_result"
    }
   ],
   "source": [
    "train_x_2D"
   ]
  },
  {
   "cell_type": "code",
   "execution_count": null,
   "metadata": {},
   "outputs": [],
   "source": []
  }
 ],
 "metadata": {
  "kernelspec": {
   "display_name": "Python 3 (ipykernel)",
   "language": "python",
   "name": "python3"
  },
  "language_info": {
   "codemirror_mode": {
    "name": "ipython",
    "version": 3
   },
   "file_extension": ".py",
   "mimetype": "text/x-python",
   "name": "python",
   "nbconvert_exporter": "python",
   "pygments_lexer": "ipython3",
   "version": "3.8.18"
  },
  "vscode": {
   "interpreter": {
    "hash": "e142f8b3b1707bf0a141def7e786ace79830b71c74bb0ada0c83ffbe9383c56e"
   }
  }
 },
 "nbformat": 4,
 "nbformat_minor": 4
}
