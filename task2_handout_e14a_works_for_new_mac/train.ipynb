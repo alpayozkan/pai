{
 "cells": [
  {
   "cell_type": "code",
   "execution_count": 1,
   "id": "84948878-f7aa-4e5f-a1c4-e4f7429d2efb",
   "metadata": {},
   "outputs": [
    {
     "name": "stdout",
     "output_type": "stream",
     "text": [
      "Dockerfile                    results_check.byte\n",
      "\u001b[34m__pycache__\u001b[m\u001b[m/                  runner.sh\n",
      "checker_client.py             solution.py\n",
      "env.yaml                      test_xs.npz\n",
      "euler-guide.md                test_ys.bytes\n",
      "examples_least_confident.pdf  train.ipynb\n",
      "examples_most_confident.pdf   train_xs.npz\n",
      "main.ipynb                    train_ys.npz\n",
      "map_weights.pt                util.py\n",
      "\u001b[34mpytransform\u001b[m\u001b[m/                  val_xs.npz\n",
      "reliability_diagram.pdf       val_ys.npz\n",
      "requirements.txt\n"
     ]
    }
   ],
   "source": [
    "%ls"
   ]
  },
  {
   "cell_type": "code",
   "execution_count": 2,
   "id": "1c707917-acd1-4463-8886-77737b31b8fe",
   "metadata": {},
   "outputs": [],
   "source": [
    "from solution import *"
   ]
  },
  {
   "cell_type": "code",
   "execution_count": null,
   "id": "bd8b8913-552e-4fee-a36b-af0688bc64a4",
   "metadata": {},
   "outputs": [],
   "source": []
  },
  {
   "cell_type": "code",
   "execution_count": null,
   "id": "39b443ae-db2b-4e32-a0c7-4c3b91425d23",
   "metadata": {},
   "outputs": [],
   "source": []
  },
  {
   "cell_type": "code",
   "execution_count": 3,
   "id": "aa17ba47-0ac7-4dba-a095-e8fc620e88df",
   "metadata": {},
   "outputs": [],
   "source": [
    "\n",
    "data_dir = pathlib.Path.cwd()\n",
    "model_dir = pathlib.Path.cwd()\n",
    "output_dir = pathlib.Path.cwd()\n",
    "\n",
    "# Load training data\n",
    "train_xs = torch.from_numpy(np.load(data_dir / \"train_xs.npz\")[\"train_xs\"])\n",
    "raw_train_meta = np.load(data_dir / \"train_ys.npz\")\n",
    "train_ys = torch.from_numpy(raw_train_meta[\"train_ys\"])\n",
    "train_is_snow = torch.from_numpy(raw_train_meta[\"train_is_snow\"])\n",
    "train_is_cloud = torch.from_numpy(raw_train_meta[\"train_is_cloud\"])\n",
    "dataset_train = torch.utils.data.TensorDataset(train_xs, train_is_snow, train_is_cloud, train_ys)\n",
    "\n",
    "# Load validation data\n",
    "val_xs = torch.from_numpy(np.load(data_dir / \"val_xs.npz\")[\"val_xs\"])\n",
    "raw_val_meta = np.load(data_dir / \"val_ys.npz\")\n",
    "val_ys = torch.from_numpy(raw_val_meta[\"val_ys\"])\n",
    "val_is_snow = torch.from_numpy(raw_val_meta[\"val_is_snow\"])\n",
    "val_is_cloud = torch.from_numpy(raw_val_meta[\"val_is_cloud\"])\n",
    "dataset_val = torch.utils.data.TensorDataset(val_xs, val_is_snow, val_is_cloud, val_ys)\n"
   ]
  },
  {
   "cell_type": "code",
   "execution_count": 6,
   "id": "306277cd-ef61-45d8-afa9-ea238e2a2ebe",
   "metadata": {},
   "outputs": [],
   "source": [
    "# Fix all randomness\n",
    "setup_seeds()\n",
    "\n",
    "# Build and run the actual solution\n",
    "train_loader = torch.utils.data.DataLoader(\n",
    "    dataset_train,\n",
    "    batch_size=16,\n",
    "    shuffle=True,\n",
    "    num_workers=0,\n",
    ")\n",
    "swag = SWAGInference(\n",
    "    train_xs=dataset_train.tensors[0],\n",
    "    model_dir=model_dir,\n",
    "    swag_epochs=30,\n",
    "    deviation_matrix_max_rank=15,\n",
    ")"
   ]
  },
  {
   "cell_type": "code",
   "execution_count": null,
   "id": "a030a5b0-d1b3-4449-a947-15d121178465",
   "metadata": {},
   "outputs": [],
   "source": []
  },
  {
   "cell_type": "code",
   "execution_count": null,
   "id": "24f1e68f-6726-4c17-8883-6994628a682d",
   "metadata": {},
   "outputs": [],
   "source": []
  },
  {
   "cell_type": "code",
   "execution_count": 7,
   "id": "d9a6c02d-6647-4536-b1fa-bf8ab9815084",
   "metadata": {},
   "outputs": [
    {
     "name": "stdout",
     "output_type": "stream",
     "text": [
      "Loaded pretrained MAP weights from /Users/alpayozkan/eth/pai_proj/task2_handout_e14a_works_for_new_mac/map_weights.pt\n"
     ]
    },
    {
     "name": "stderr",
     "output_type": "stream",
     "text": [
      "Running gradient descent for SWA: 100%|█| 30/30 [09:00<00:00, 18.03s/it, lr\n"
     ]
    }
   ],
   "source": [
    "swag.fit(train_loader)"
   ]
  },
  {
   "cell_type": "code",
   "execution_count": null,
   "id": "df69e058-51ec-4bbb-92b0-0956aaa30a84",
   "metadata": {},
   "outputs": [],
   "source": []
  },
  {
   "cell_type": "code",
   "execution_count": 14,
   "id": "a59d9eb6-1127-49bd-9022-152a5eba4cbd",
   "metadata": {},
   "outputs": [],
   "source": [
    "swag.calibrate(dataset_val)"
   ]
  },
  {
   "cell_type": "code",
   "execution_count": null,
   "id": "de10c899-8d35-427a-ab81-d0bb1c0a84f1",
   "metadata": {},
   "outputs": [],
   "source": []
  },
  {
   "cell_type": "code",
   "execution_count": 9,
   "id": "73ca22bd-4d1f-4cd6-ae90-a21349f08958",
   "metadata": {},
   "outputs": [],
   "source": [
    "\n",
    "eval_dataset = dataset_val\n",
    "extended_evaluation = EXTENDED_EVALUATION\n",
    "output_dir = output_dir"
   ]
  },
  {
   "cell_type": "code",
   "execution_count": null,
   "id": "e0d208dd-beca-40b6-a8c8-fc9fc202ec88",
   "metadata": {},
   "outputs": [],
   "source": []
  },
  {
   "cell_type": "code",
   "execution_count": null,
   "id": "e31e1922-fdf8-4e50-9457-315cf5fec07c",
   "metadata": {},
   "outputs": [],
   "source": []
  },
  {
   "cell_type": "code",
   "execution_count": null,
   "id": "aa929043-8e1d-43da-bbd4-b50fb663f33d",
   "metadata": {},
   "outputs": [],
   "source": []
  },
  {
   "cell_type": "code",
   "execution_count": null,
   "id": "1b458ec3-ef06-4e03-8534-59ce81cb1de0",
   "metadata": {},
   "outputs": [],
   "source": []
  },
  {
   "cell_type": "code",
   "execution_count": 37,
   "id": "82273547-a549-485d-b45c-e62765028be3",
   "metadata": {},
   "outputs": [
    {
     "name": "stderr",
     "output_type": "stream",
     "text": [
      "Performing Bayesian model averaging: 100%|█| 30/30 [05:45<00:00, 11.51s/it]\n"
     ]
    }
   ],
   "source": [
    "# We ignore is_snow and is_cloud here, but feel free to use them as well\n",
    "xs, is_snow, is_cloud, ys = dataset_train.tensors\n",
    "\n",
    "# Predict class probabilities on test data,\n",
    "# most likely classes (according to the max predicted probability),\n",
    "# and classes as predicted by your SWAG implementation.\n",
    "train_pred_prob_all = swag.predict_probabilities(xs)\n",
    "train_pred_prob_max, pred_ys_argmax = torch.max(train_pred_prob_all, dim=-1)\n",
    "train_pred_ys = swag.predict_labels(train_pred_prob_all)"
   ]
  },
  {
   "cell_type": "code",
   "execution_count": null,
   "id": "15902e86-7ac2-4163-a15a-3638df71856e",
   "metadata": {},
   "outputs": [],
   "source": []
  },
  {
   "cell_type": "code",
   "execution_count": 10,
   "id": "051a5a65-c195-453b-8ac6-8be254107f7b",
   "metadata": {},
   "outputs": [
    {
     "name": "stderr",
     "output_type": "stream",
     "text": [
      "Performing Bayesian model averaging:   0%|          | 0/30 [00:00<?, ?it/s]/Users/alpayozkan/eth/pai_proj/task2_handout_e14a_works_for_new_mac/solution.py:374: UserWarning: The use of `x.T` on tensors of dimension other than 2 to reverse their shape is deprecated and it will throw an error in a future release. Consider `x.mT` to transpose batches of matrices or `x.permute(*torch.arange(x.ndim - 1, -1, -1))` to reverse the dimensions of a tensor. (Triggered internally at /Users/runner/work/pytorch/pytorch/pytorch/aten/src/ATen/native/TensorShape.cpp:3575.)\n",
      "  sampled_param += 1/torch.sqrt(torch.tensor(2) * (self.deviation_matrix_max_rank-1)) * torch.matmul(Dparam.T, z_2).T\n",
      "Performing Bayesian model averaging: 100%|█| 30/30 [03:12<00:00,  6.42s/it]\n"
     ]
    },
    {
     "ename": "TypeError",
     "evalue": "'>=' not supported between instances of 'Tensor' and 'NoneType'",
     "output_type": "error",
     "traceback": [
      "\u001b[0;31m---------------------------------------------------------------------------\u001b[0m",
      "\u001b[0;31mTypeError\u001b[0m                                 Traceback (most recent call last)",
      "Cell \u001b[0;32mIn[10], line 9\u001b[0m\n\u001b[1;32m      7\u001b[0m pred_prob_all \u001b[38;5;241m=\u001b[39m swag\u001b[38;5;241m.\u001b[39mpredict_probabilities(xs)\n\u001b[1;32m      8\u001b[0m pred_prob_max, pred_ys_argmax \u001b[38;5;241m=\u001b[39m torch\u001b[38;5;241m.\u001b[39mmax(pred_prob_all, dim\u001b[38;5;241m=\u001b[39m\u001b[38;5;241m-\u001b[39m\u001b[38;5;241m1\u001b[39m)\n\u001b[0;32m----> 9\u001b[0m pred_ys \u001b[38;5;241m=\u001b[39m \u001b[43mswag\u001b[49m\u001b[38;5;241;43m.\u001b[39;49m\u001b[43mpredict_labels\u001b[49m\u001b[43m(\u001b[49m\u001b[43mpred_prob_all\u001b[49m\u001b[43m)\u001b[49m\n",
      "File \u001b[0;32m~/eth/pai_proj/task2_handout_e14a_works_for_new_mac/solution.py:405\u001b[0m, in \u001b[0;36mSWAGInference.predict_labels\u001b[0;34m(self, predicted_probabilities)\u001b[0m\n\u001b[1;32m    397\u001b[0m \u001b[38;5;28;01massert\u001b[39;00m label_probabilities\u001b[38;5;241m.\u001b[39msize() \u001b[38;5;241m==\u001b[39m (num_samples,) \u001b[38;5;129;01mand\u001b[39;00m max_likelihood_labels\u001b[38;5;241m.\u001b[39msize() \u001b[38;5;241m==\u001b[39m (num_samples,)\n\u001b[1;32m    399\u001b[0m \u001b[38;5;66;03m# A model without uncertainty awareness might simply predict the most likely label per sample:\u001b[39;00m\n\u001b[1;32m    400\u001b[0m \u001b[38;5;66;03m# return max_likelihood_labels\u001b[39;00m\n\u001b[1;32m    401\u001b[0m \n\u001b[1;32m    402\u001b[0m \u001b[38;5;66;03m# A bit better: use a threshold to decide whether to return a label or \"don't know\" (label -1)\u001b[39;00m\n\u001b[1;32m    403\u001b[0m \u001b[38;5;66;03m# TODO(2): implement a different decision rule if desired\u001b[39;00m\n\u001b[1;32m    404\u001b[0m \u001b[38;5;28;01mreturn\u001b[39;00m torch\u001b[38;5;241m.\u001b[39mwhere(\n\u001b[0;32m--> 405\u001b[0m     \u001b[43mlabel_probabilities\u001b[49m\u001b[43m \u001b[49m\u001b[38;5;241;43m>\u001b[39;49m\u001b[38;5;241;43m=\u001b[39;49m\u001b[43m \u001b[49m\u001b[38;5;28;43mself\u001b[39;49m\u001b[38;5;241;43m.\u001b[39;49m\u001b[43m_prediction_threshold\u001b[49m,\n\u001b[1;32m    406\u001b[0m     max_likelihood_labels,\n\u001b[1;32m    407\u001b[0m     torch\u001b[38;5;241m.\u001b[39mones_like(max_likelihood_labels) \u001b[38;5;241m*\u001b[39m \u001b[38;5;241m-\u001b[39m\u001b[38;5;241m1\u001b[39m,\n\u001b[1;32m    408\u001b[0m )\n",
      "\u001b[0;31mTypeError\u001b[0m: '>=' not supported between instances of 'Tensor' and 'NoneType'"
     ]
    }
   ],
   "source": [
    "# We ignore is_snow and is_cloud here, but feel free to use them as well\n",
    "xs, is_snow, is_cloud, ys = eval_dataset.tensors\n",
    "\n",
    "# Predict class probabilities on test data,\n",
    "# most likely classes (according to the max predicted probability),\n",
    "# and classes as predicted by your SWAG implementation.\n",
    "pred_prob_all = swag.predict_probabilities(xs)\n",
    "pred_prob_max, pred_ys_argmax = torch.max(pred_prob_all, dim=-1)\n",
    "pred_ys = swag.predict_labels(pred_prob_all)"
   ]
  },
  {
   "cell_type": "code",
   "execution_count": 13,
   "id": "8dd14672-4a90-4610-ac5e-d82a048c54ac",
   "metadata": {},
   "outputs": [
    {
     "data": {
      "text/plain": [
       "torch.Size([140, 6])"
      ]
     },
     "execution_count": 13,
     "metadata": {},
     "output_type": "execute_result"
    }
   ],
   "source": [
    "pred_prob_all.shape"
   ]
  },
  {
   "cell_type": "code",
   "execution_count": 15,
   "id": "bdec2743-7a8a-4879-b78a-3e4c03b94585",
   "metadata": {},
   "outputs": [],
   "source": []
  },
  {
   "cell_type": "code",
   "execution_count": 16,
   "id": "17078752-74d7-4785-8a16-6b4206d8199a",
   "metadata": {},
   "outputs": [
    {
     "data": {
      "text/plain": [
       "tensor([-1, -1,  3,  2,  1, -1, -1,  4, -1, -1,  0, -1,  5, -1,  5,  1,  3, -1,\n",
       "         0, -1, -1, -1, -1, -1,  3, -1,  0,  1,  5, -1, -1,  4,  0,  5, -1,  3,\n",
       "        -1, -1,  5,  1, -1,  4,  3,  0, -1, -1, -1,  3, -1,  5,  1, -1, -1,  4,\n",
       "         1, -1, -1,  2,  3,  0, -1, -1,  3,  1, -1, -1, -1, -1, -1,  1,  0, -1,\n",
       "         4, -1, -1,  5,  5,  3, -1,  5,  4,  1,  5, -1, -1,  3,  0,  4,  0, -1,\n",
       "        -1, -1, -1,  2,  5,  4,  3,  5, -1,  3, -1,  0,  3,  1,  0, -1,  4, -1,\n",
       "         1,  3,  0,  5, -1,  4, -1,  0, -1,  4, -1, -1,  0, -1,  4, -1,  3, -1,\n",
       "        -1, -1, -1,  5, -1, -1, -1,  0,  3, -1, -1,  5, -1,  0])"
      ]
     },
     "execution_count": 16,
     "metadata": {},
     "output_type": "execute_result"
    }
   ],
   "source": [
    "pred_ys"
   ]
  },
  {
   "cell_type": "code",
   "execution_count": null,
   "id": "dc9d343d-a258-421b-9c54-5341fbcd7b16",
   "metadata": {},
   "outputs": [],
   "source": []
  },
  {
   "cell_type": "code",
   "execution_count": 21,
   "id": "d9020dbf-3bef-4bb0-8224-b374bae741c5",
   "metadata": {},
   "outputs": [
    {
     "data": {
      "text/plain": [
       "(array([67., 16., 11.,  3., 16., 12., 15.]),\n",
       " array([-1.,  0.,  1.,  2.,  3.,  4.,  5.,  6.]),\n",
       " <BarContainer object of 7 artists>)"
      ]
     },
     "execution_count": 21,
     "metadata": {},
     "output_type": "execute_result"
    },
    {
     "data": {
      "image/png": "[encoded data removed]",
      "text/plain": [
       "<Figure size 640x480 with 1 Axes>"
      ]
     },
     "metadata": {},
     "output_type": "display_data"
    }
   ],
   "source": [
    "counts, bins = np.histogram(pred_ys, bins=[-1,0,1,2,3,4,5,6])\n",
    "plt.hist(bins[:-1], bins, weights=counts)"
   ]
  },
  {
   "cell_type": "code",
   "execution_count": 22,
   "id": "9049c35b-4a7e-463a-a9f1-a73c46064d1f",
   "metadata": {},
   "outputs": [
    {
     "data": {
      "text/plain": [
       "(array([ 0., 22., 17., 39., 21., 19., 22.]),\n",
       " array([-1.,  0.,  1.,  2.,  3.,  4.,  5.,  6.]),\n",
       " <BarContainer object of 7 artists>)"
      ]
     },
     "execution_count": 22,
     "metadata": {},
     "output_type": "execute_result"
    },
    {
     "data": {
      "image/png": "[encoded data removed]",
      "text/plain": [
       "<Figure size 640x480 with 1 Axes>"
      ]
     },
     "metadata": {},
     "output_type": "display_data"
    }
   ],
   "source": [
    "counts, bins = np.histogram(pred_ys_argmax, bins=[-1,0,1,2,3,4,5,6])\n",
    "plt.hist(bins[:-1], bins, weights=counts)"
   ]
  },
  {
   "cell_type": "code",
   "execution_count": null,
   "id": "e3bf15e2-d3d0-4141-8625-d1fce8677779",
   "metadata": {},
   "outputs": [],
   "source": []
  },
  {
   "cell_type": "code",
   "execution_count": null,
   "id": "c6c3547d-55d4-4738-befe-43cc8650a666",
   "metadata": {},
   "outputs": [],
   "source": []
  },
  {
   "cell_type": "code",
   "execution_count": 18,
   "id": "40b4a0a4-b1d7-4034-b3ab-efd5fa23b71f",
   "metadata": {},
   "outputs": [
    {
     "data": {
      "text/plain": [
       "array([4, 0, 4, ..., 2, 3, 4])"
      ]
     },
     "execution_count": 18,
     "metadata": {},
     "output_type": "execute_result"
    }
   ],
   "source": [
    "train_xs = torch.from_numpy(np.load(data_dir / \"train_xs.npz\")[\"train_xs\"])\n",
    "raw_train_meta = np.load(data_dir / \"train_ys.npz\")\n",
    "train_ys = torch.from_numpy(raw_train_meta[\"train_ys\"])\n",
    "train_is_snow = torch.from_numpy(raw_train_meta[\"train_is_snow\"])\n",
    "train_is_cloud = torch.from_numpy(raw_train_meta[\"train_is_cloud\"])\n",
    "dataset_train = torch.utils.data.TensorDataset(train_xs, train_is_snow, train_is_cloud, train_ys)"
   ]
  },
  {
   "cell_type": "code",
   "execution_count": null,
   "id": "ac10bebc-7649-4899-a885-d71965e73348",
   "metadata": {},
   "outputs": [],
   "source": []
  },
  {
   "cell_type": "code",
   "execution_count": null,
   "id": "3e977383-e576-4883-bbba-935671621441",
   "metadata": {},
   "outputs": [],
   "source": []
  },
  {
   "cell_type": "code",
   "execution_count": null,
   "id": "7e7f837e-f809-48b2-b910-865bb011b6c6",
   "metadata": {},
   "outputs": [],
   "source": [
    "\n",
    "\n",
    "# Create a mask that ignores ambiguous samples (those with class -1)\n",
    "nonambiguous_mask = ys != -1\n",
    "\n",
    "# Calculate three kinds of accuracy:\n",
    "# 1. Overall accuracy, counting \"don't know\" (-1) as its own class\n",
    "# 2. Accuracy on all samples that have a known label. Predicting -1 on those counts as wrong here.\n",
    "# 3. Accuracy on all samples that have a known label w.r.t. the class with the highest predicted probability.\n",
    "accuracy = torch.mean((pred_ys == ys).float()).item()\n",
    "accuracy_nonambiguous = torch.mean((pred_ys[nonambiguous_mask] == ys[nonambiguous_mask]).float()).item()\n",
    "accuracy_nonambiguous_argmax = torch.mean(\n",
    "    (pred_ys_argmax[nonambiguous_mask] == ys[nonambiguous_mask]).float()\n",
    ").item()\n",
    "print(f\"Accuracy (raw): {accuracy:.4f}\")\n",
    "print(f\"Accuracy (non-ambiguous only, your predictions): {accuracy_nonambiguous:.4f}\")\n",
    "print(f\"Accuracy (non-ambiguous only, predicting most-likely class): {accuracy_nonambiguous_argmax:.4f}\")\n",
    "\n",
    "# Determine which threshold would yield the smallest cost on the validation data\n",
    "# Note that this threshold does not necessarily generalize to the test set!\n",
    "# However, it can help you judge your method's calibration.\n",
    "thresholds = [0.0] + list(torch.unique(pred_prob_max, sorted=True))\n",
    "costs = []\n",
    "for threshold in thresholds:\n",
    "    thresholded_ys = torch.where(pred_prob_max <= threshold, -1 * torch.ones_like(pred_ys), pred_ys)\n",
    "    costs.append(cost_function(thresholded_ys, ys).item())\n",
    "best_idx = np.argmin(costs)\n",
    "print(f\"Best cost {costs[best_idx]} at threshold {thresholds[best_idx]}\")\n",
    "print(\"Note that this threshold does not necessarily generalize to the test set!\")\n",
    "\n",
    "# Calculate ECE and plot the calibration curve\n",
    "calibration_data = calc_calibration_curve(pred_prob_all.numpy(), ys.numpy(), num_bins=20)\n",
    "print(\"Validation ECE:\", calibration_data[\"ece\"])\n",
    "\n",
    "if extended_evaluation:\n",
    "    print(\"Plotting reliability diagram\")\n",
    "    fig = draw_reliability_diagram(calibration_data)\n",
    "    fig.savefig(output_dir / \"reliability_diagram.pdf\")\n",
    "\n",
    "    sorted_confidence_indices = torch.argsort(pred_prob_max)\n",
    "\n",
    "    # Plot samples your model is most confident about\n",
    "    print(\"Plotting most confident validation set predictions\")\n",
    "    most_confident_indices = sorted_confidence_indices[-10:]\n",
    "    fig, ax = plt.subplots(4, 5, figsize=(13, 11))\n",
    "    for row in range(0, 4, 2):\n",
    "        for col in range(5):\n",
    "            sample_idx = most_confident_indices[5 * row // 2 + col]\n",
    "            ax[row, col].imshow(xs[sample_idx].permute(1, 2, 0).numpy())\n",
    "            ax[row, col].set_axis_off()\n",
    "            ax[row + 1, col].set_title(f\"pred. {pred_ys[sample_idx]}, true {ys[sample_idx]}\")\n",
    "            bar_colors = [\"C0\"] * 6\n",
    "            if ys[sample_idx] >= 0:\n",
    "                bar_colors[ys[sample_idx]] = \"C1\"\n",
    "            ax[row + 1, col].bar(\n",
    "                np.arange(6), pred_prob_all[sample_idx].numpy(), tick_label=np.arange(6), color=bar_colors\n",
    "            )\n",
    "    fig.suptitle(\"Most confident predictions\", size=20)\n",
    "    fig.savefig(output_dir / \"examples_most_confident.pdf\")\n",
    "\n",
    "    # Plot samples your model is least confident about\n",
    "    print(\"Plotting least confident validation set predictions\")\n",
    "    least_confident_indices = sorted_confidence_indices[:10]\n",
    "    fig, ax = plt.subplots(4, 5, figsize=(13, 11))\n",
    "    for row in range(0, 4, 2):\n",
    "        for col in range(5):\n",
    "            sample_idx = least_confident_indices[5 * row // 2 + col]\n",
    "            ax[row, col].imshow(xs[sample_idx].permute(1, 2, 0).numpy())\n",
    "            ax[row, col].set_axis_off()\n",
    "            ax[row + 1, col].set_title(f\"pred. {pred_ys[sample_idx]}, true {ys[sample_idx]}\")\n",
    "            bar_colors = [\"C0\"] * 6\n",
    "            if ys[sample_idx] >= 0:\n",
    "                bar_colors[ys[sample_idx]] = \"C1\"\n",
    "            ax[row + 1, col].bar(\n",
    "                np.arange(6), pred_prob_all[sample_idx].numpy(), tick_label=np.arange(6), color=bar_colors\n",
    "            )\n",
    "    fig.suptitle(\"Least confident predictions\", size=20)\n",
    "    fig.savefig(output_dir / \"examples_least_confident.pdf\")"
   ]
  },
  {
   "cell_type": "code",
   "execution_count": null,
   "id": "6602babf-e533-41b8-8ec7-da4aa0fb2c96",
   "metadata": {},
   "outputs": [],
   "source": [
    "\n",
    "\n",
    "\n"
   ]
  },
  {
   "cell_type": "code",
   "execution_count": null,
   "id": "20e5152f-d289-42bf-b1fd-b080d3b89b98",
   "metadata": {},
   "outputs": [],
   "source": [
    "swag.calibrate(dataset_val)\n",
    "\n",
    "# fork_rng ensures that the evaluation does not change the rng state.\n",
    "# That way, you should get exactly the same results even if you remove evaluation\n",
    "# to save computational time when developing the task\n",
    "# (as long as you ONLY use torch randomness, and not e.g. random or numpy.random).\n",
    "with torch.random.fork_rng():\n",
    "    evaluate(swag, dataset_val, EXTENDED_EVALUATION, output_dir)"
   ]
  }
 ],
 "metadata": {
  "kernelspec": {
   "display_name": "Python 3 (ipykernel)",
   "language": "python",
   "name": "python3"
  },
  "language_info": {
   "codemirror_mode": {
    "name": "ipython",
    "version": 3
   },
   "file_extension": ".py",
   "mimetype": "text/x-python",
   "name": "python",
   "nbconvert_exporter": "python",
   "pygments_lexer": "ipython3",
   "version": "3.8.18"
  }
 },
 "nbformat": 4,
 "nbformat_minor": 5
}
